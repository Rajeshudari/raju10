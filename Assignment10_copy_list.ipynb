In [3]:
def Cloning(li1): 
    li_copy = li1[:] 
    return li_copy  
li1 = [84, 18, 21, 10, 15, 18] 
li2 = Cloning(li1) 
print("Original List:", li1) 
print("After Cloning:", li2)
Original List: [84, 18, 21, 10, 15, 18]
After Cloning: [84, 18, 21, 10, 15, 18]
