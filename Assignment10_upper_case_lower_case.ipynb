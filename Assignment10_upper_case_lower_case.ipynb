In [5]:
def string_test(s):
    d={"UPPER_CASE":0, "LOWER_CASE":0}
    for c in s:
        if c.isupper():
           d["UPPER_CASE"]+=1
        elif c.islower():
           d["LOWER_CASE"]+=1
        else:
           pass
    print ("Original String : ", s)
    print ("No. of Upper case characters : ", d["UPPER_CASE"])
    print ("No. of Lower case Characters : ", d["LOWER_CASE"])

string_test('Hello Mr.Rogers,how are you this fine Tuesday?')
Original String :  Hello Mr.Rogers,how are you this fine Tuesday?
No. of Upper case characters :  4
No. of Lower case Characters :  33
