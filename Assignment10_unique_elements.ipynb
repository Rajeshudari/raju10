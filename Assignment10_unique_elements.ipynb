In [1]:
n=int(input("enter the number of elements in the list"))
lst=[]
for i in range(0, n): 
    ele = int(input("enter the element"))
    lst.append(ele)
mylist=[]
for item in lst:
    if item not in mylist:
        mylist.append(item)
print(mylist)
enter the number of elements in the list5
enter the element1
enter the element2
enter the element3
enter the element2
enter the element3
[1, 2, 3]
